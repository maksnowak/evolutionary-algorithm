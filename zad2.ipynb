{
 "cells": [
  {
   "attachments": {},
   "cell_type": "markdown",
   "metadata": {},
   "source": [
    "# WSI - Ćwiczenie 2\n",
    "\n",
    "*Autor: Maksymilian Nowak*"
   ]
  },
  {
   "attachments": {},
   "cell_type": "markdown",
   "metadata": {},
   "source": [
    "### Cel ćwiczenia\n",
    "\n",
    "Celem ćwiczenia jest zaimplementowanie algorytmu ewolucyjnego:\n",
    "- z selekcją turniejową ($k=2$)\n",
    "- krzyżowaniem jednopunktowym\n",
    "- mutacją gaussowską\n",
    "- sukcesją generacyjną\n",
    "\n",
    "Należy również wykorzystać ten algorytm do znalezienia minimum sumy funkcji $f_1+f_2$, gdzie: \n",
    "$$f_1(x_1,y_1)=(x_1^2+y_1-11)^2+(x_1+y_1^2-7)^2$$\n",
    "$$f_2(x_2,y_2)=2*x_2^2+1.05*x_2^4+\\frac{x_2^6}{6}+x_2y_2+y_2^2$$\n",
    "dla dziedziny $D=[-5,5]\\times[-5,5]$, oraz zbadać wpływ dystrybucji populacji początkowej, prawdopodobieństwa mutacji oraz prawdopodobieństwa krzyżowania na współrzędne znalezionych minimów funkcji $f_1$."
   ]
  },
  {
   "attachments": {},
   "cell_type": "markdown",
   "metadata": {},
   "source": [
    "## Implementacja algorytmu ewolucyjnego\n",
    "\n",
    "Do implementacji algorytmu przyjąłem następujące założenia:\n",
    "- Funkcja celu ma następującą postać: $g(x_1, x_2, y_1, y_2)=f_1(x_1,y_1)+f_2(x_2,y_2)$\n",
    "- Osobnik jest postaci $(x_1,x_2,y_1,y_2)$\n",
    "- Kryterium stopu w algorytmie będzie maksymalna liczba pokoleń\n",
    "\n",
    "Na początku zdefiniuję badane funkcje oraz funkcję celu, będącą ich sumą:"
   ]
  },
  {
   "cell_type": "code",
   "execution_count": 1,
   "metadata": {},
   "outputs": [],
   "source": [
    "def f1(x, y):\n",
    "    return (x**2 + y - 11)**2 + (x + y**2 - 7)**2\n",
    "\n",
    "def f2(x, y):\n",
    "    return 2*x**2 + 1.05*x**4 + (1/6)*x**6 + x*y + y**2\n",
    "\n",
    "def g(x1, x2, y1, y2):\n",
    "    return f1(x1, y1) + f2(x2, y2)"
   ]
  },
  {
   "attachments": {},
   "cell_type": "markdown",
   "metadata": {},
   "source": [
    "Pozostałymi hiperparametrami algorytmu będą:\n",
    "- prawdopodobieństwo mutacji\n",
    "- wariancja używana do obliczania siły mutacji \n",
    "- prawdopodobieństwo krzyżowania\n",
    "- wartość kary za wyjście poza planszę (czyli dziedzinę $D$)\n",
    "\n",
    "Przed zaimplementowaniem algorytmu wyznaczę funkcję oceny - wartością zwracaną przez tę funkcję będzie wynik funkcji celu (im mniejszy, tym lepsza ocena). Dodatkowo kara za wyjście poza dziedzinę funkcji przez osobnika to dodanie 1000 do wyniku działania funkcji oceny."
   ]
  },
  {
   "cell_type": "code",
   "execution_count": 10,
   "metadata": {},
   "outputs": [],
   "source": [
    "def rate(genes):\n",
    "    penalty = 0\n",
    "    domain_conditions = [-5 <= gene <= 5 for gene in genes]\n",
    "    if not all(domain_conditions):\n",
    "        penalty += 1000\n",
    "    return g(gene[0], gene[1], gene[2], gene[3]) + penalty"
   ]
  },
  {
   "attachments": {},
   "cell_type": "markdown",
   "metadata": {},
   "source": [
    "Następnie zdefiniuję funkcje odpowiedzialne za reprodukcję, krzyżowanie i mutację, z których będzie się składał algorytm ewoulucyjny."
   ]
  },
  {
   "cell_type": "code",
   "execution_count": 42,
   "metadata": {},
   "outputs": [],
   "source": [
    "import random\n",
    "import numpy as np\n",
    "\n",
    "# Reprodukcja - selekcja turniejowa (turnieje dwuosobnikowe)\n",
    "def reproduction(population, rating):\n",
    "    results = []\n",
    "    for i, individual in enumerate(population):\n",
    "        opponents = population.copy()\n",
    "        opponents.pop(i)\n",
    "        opponent = random.choice(opponents)\n",
    "        if rating(individual) < rating(opponent):\n",
    "            results.append(individual)\n",
    "        else:\n",
    "            results.append(opponent)\n",
    "    return results\n",
    "\n",
    "# Krzyżowanie jednopunktowe - każda para rodziców produkuje dwójkę dzieci\n",
    "def crossover(population, crossover_prob):\n",
    "    results = []\n",
    "    parents_list = population.copy()\n",
    "    for i in range(0, len(population) - 1, 2):\n",
    "        crossover_value = random.uniform(0, 1)\n",
    "        parent1, parent2 = random.sample(parents_list, 2)\n",
    "        parents_list.remove(parent1)\n",
    "        parents_list.remove(parent2)\n",
    "        if crossover_value < crossover_prob:\n",
    "            crossing_point = random.randint(1, len(parent1))\n",
    "            child1, child2 = [\n",
    "                parent1[:crossing_point] + parent2[crossing_point:],\n",
    "                parent2[:crossing_point] + parent1[crossing_point:]\n",
    "            ]\n",
    "            results.append(child1)\n",
    "            results.append(child2)\n",
    "        else:\n",
    "            results.append(parent1)\n",
    "            results.append(parent2)\n",
    "    # Jeśli populacja jest nieparzysta, przenieś rodzica bez pary do wyników\n",
    "    if len(population) % 2 == 1:\n",
    "        results.append(parents_list[0])\n",
    "    return results\n",
    "\n",
    "# Mutacja gaussowska\n",
    "def mutation(population, variance, mutation_prob):\n",
    "    results = []\n",
    "    for individual in population:\n",
    "        mutation_value = random.uniform(0, 1)\n",
    "        if mutation_value < mutation_prob:\n",
    "            results.append((individual + variance * np.random.normal(0, 1, len(individual))).tolist())\n",
    "        else:\n",
    "            results.append(individual)\n",
    "    return results\n"
   ]
  }
 ],
 "metadata": {
  "kernelspec": {
   "display_name": "Python 3",
   "language": "python",
   "name": "python3"
  },
  "language_info": {
   "codemirror_mode": {
    "name": "ipython",
    "version": 3
   },
   "file_extension": ".py",
   "mimetype": "text/x-python",
   "name": "python",
   "nbconvert_exporter": "python",
   "pygments_lexer": "ipython3",
   "version": "3.10.9"
  },
  "orig_nbformat": 4
 },
 "nbformat": 4,
 "nbformat_minor": 2
}
