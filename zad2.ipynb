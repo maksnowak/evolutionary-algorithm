{
 "cells": [
  {
   "attachments": {},
   "cell_type": "markdown",
   "metadata": {},
   "source": [
    "# WSI - Ćwiczenie 2\n",
    "\n",
    "*Autor: Maksymilian Nowak*"
   ]
  },
  {
   "attachments": {},
   "cell_type": "markdown",
   "metadata": {},
   "source": [
    "### Cel ćwiczenia\n",
    "\n",
    "Celem ćwiczenia jest zaimplementowanie algorytmu ewolucyjnego:\n",
    "- z selekcją turniejową ($k=2$)\n",
    "- krzyżowaniem jednopunktowym\n",
    "- mutacją gaussowską\n",
    "- sukcesją generacyjną\n",
    "\n",
    "Należy również wykorzystać ten algorytm do znalezienia minimum sumy funkcji $f_1+f_2$, gdzie: \n",
    "$$f_1(x_1,y_1)=(x_1^2+y_1-11)^2+(x_1+y_1^2-7)^2$$\n",
    "$$f_2(x_2,y_2)=2*x_2^2+1.05*x_2^4+\\frac{x_2^6}{6}+x_2y_2+y_2^2$$\n",
    "dla dziedziny $D=[-5,5]\\times[-5,5]$, oraz zbadać wpływ dystrybucji populacji początkowej, prawdopodobieństwa mutacji oraz prawdopodobieństwa krzyżowania na współrzędne znalezionych minimów funkcji $f_1$."
   ]
  },
  {
   "attachments": {},
   "cell_type": "markdown",
   "metadata": {},
   "source": [
    "## Implementacja algorytmu ewolucyjnego\n",
    "\n",
    "Do implementacji algorytmu przyjąłem następujące założenia:\n",
    "- Funkcja celu ma następującą postać: $g(x_1, x_2, y_1, y_2)=f_1(x_1,y_1)+f_2(x_2,y_2)$\n",
    "- Osobnik jest postaci $(x_1,x_2,y_1,y_2)$\n",
    "- Kryterium stopu w algorytmie będzie maksymalna liczba pokoleń\n",
    "\n",
    "Na początku zdefiniuję badane funkcje oraz funkcję celu, będącą ich sumą:"
   ]
  },
  {
   "cell_type": "code",
   "execution_count": 1,
   "metadata": {},
   "outputs": [],
   "source": [
    "def f1(x, y):\n",
    "    return (x**2 + y - 11)**2 + (x + y**2 - 7)**2\n",
    "\n",
    "def f2(x, y):\n",
    "    return 2*x**2 + 1.05*x**4 + (1/6)*x**6 + x*y + y**2\n",
    "\n",
    "def g(x1, x2, y1, y2):\n",
    "    return f1(x1, y1) + f2(x2, y2)"
   ]
  },
  {
   "attachments": {},
   "cell_type": "markdown",
   "metadata": {},
   "source": [
    "Pozostałymi hiperparametrami algorytmu będą:\n",
    "- wielkość populacji, czyli liczba osobników\n",
    "- prawdopodobieństwo mutacji\n",
    "- prawdopodobieństwo krzyżowania\n",
    "- wartość kary za wyjście poza planszę (czyli dziedzinę $D$)"
   ]
  },
  {
   "cell_type": "code",
   "execution_count": null,
   "metadata": {},
   "outputs": [],
   "source": []
  }
 ],
 "metadata": {
  "kernelspec": {
   "display_name": "Python 3",
   "language": "python",
   "name": "python3"
  },
  "language_info": {
   "codemirror_mode": {
    "name": "ipython",
    "version": 3
   },
   "file_extension": ".py",
   "mimetype": "text/x-python",
   "name": "python",
   "nbconvert_exporter": "python",
   "pygments_lexer": "ipython3",
   "version": "3.10.9"
  },
  "orig_nbformat": 4
 },
 "nbformat": 4,
 "nbformat_minor": 2
}
