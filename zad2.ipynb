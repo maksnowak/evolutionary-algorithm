{
 "cells": [
  {
   "attachments": {},
   "cell_type": "markdown",
   "metadata": {},
   "source": [
    "# WSI - Ćwiczenie 2\n",
    "\n",
    "*Autor - Maksymilian Nowak*"
   ]
  },
  {
   "attachments": {},
   "cell_type": "markdown",
   "metadata": {},
   "source": [
    "### Cel ćwiczenia\n",
    "\n",
    "Celem ćwiczenia jest zaimplementowanie algorytmu ewolucyjnego:\n",
    "- z selekcją turniejową ($k=2$)\n",
    "- krzyżowaniem jednopunktowym\n",
    "- mutacją gaussowską\n",
    "- sukcesją generacyjną\n",
    "\n",
    "Należy również wykorzystać ten algorytm do znalezienia minimów dwóch funkcji:\n",
    "$$f_1(x_1,y_1)=(x_1^2+y_1-11)^2+(x_1+y_1^2-7)^2$$\n",
    "$$f_2(x_2,y_2)=2*x_2^2+1.05*x_2^4+\\frac{x_2^6}{6}+x_2y_2+y_2^2$$\n",
    "dla dziedziny $D=[-5,5]\\times[-5,5]$, oraz zbadać wpływ dystrybucji populacji początkowej, prawdopodobieństwa mutacji oraz prawdopodobieństwo krzyżowania na współrzędne znalezionych minimów funkcji $f_1$."
   ]
  }
 ],
 "metadata": {
  "kernelspec": {
   "display_name": "Python 3",
   "language": "python",
   "name": "python3"
  },
  "language_info": {
   "codemirror_mode": {
    "name": "ipython",
    "version": 3
   },
   "file_extension": ".py",
   "mimetype": "text/x-python",
   "name": "python",
   "nbconvert_exporter": "python",
   "pygments_lexer": "ipython3",
   "version": "3.10.9"
  },
  "orig_nbformat": 4
 },
 "nbformat": 4,
 "nbformat_minor": 2
}
