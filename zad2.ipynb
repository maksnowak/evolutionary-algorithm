{
 "cells": [
  {
   "attachments": {},
   "cell_type": "markdown",
   "metadata": {},
   "source": [
    "# WSI - Ćwiczenie 2\n",
    "\n",
    "*Autor: Maksymilian Nowak*"
   ]
  },
  {
   "attachments": {},
   "cell_type": "markdown",
   "metadata": {},
   "source": [
    "### Cel ćwiczenia\n",
    "\n",
    "Celem ćwiczenia jest zaimplementowanie algorytmu ewolucyjnego:\n",
    "- z selekcją turniejową ($k=2$)\n",
    "- krzyżowaniem jednopunktowym\n",
    "- mutacją gaussowską\n",
    "- sukcesją generacyjną\n",
    "\n",
    "Należy również wykorzystać ten algorytm do znalezienia minimum sumy funkcji $f_1+f_2$, gdzie: \n",
    "$$f_1(x_1,y_1)=(x_1^2+y_1-11)^2+(x_1+y_1^2-7)^2$$\n",
    "$$f_2(x_2,y_2)=2*x_2^2+1.05*x_2^4+\\frac{x_2^6}{6}+x_2y_2+y_2^2$$\n",
    "dla dziedziny $D=[-5,5]\\times[-5,5]$, oraz zbadać wpływ dystrybucji populacji początkowej, prawdopodobieństwa mutacji oraz prawdopodobieństwa krzyżowania na współrzędne znalezionych minimów funkcji $f_1$."
   ]
  },
  {
   "attachments": {},
   "cell_type": "markdown",
   "metadata": {},
   "source": [
    "## Implementacja algorytmu ewolucyjnego\n",
    "\n",
    "Do implementacji algorytmu przyjąłem następujące założenia:\n",
    "- Funkcja celu ma następującą postać: $g(x_1, x_2, y_1, y_2)=f_1(x_1,y_1)+f_2(x_2,y_2)$\n",
    "- Osobnik jest postaci $(x_1,x_2,y_1,y_2)$\n",
    "- Kryterium stopu w algorytmie będzie maksymalna liczba pokoleń\n",
    "\n",
    "Na początku zdefiniuję badane funkcje oraz funkcję celu, będącą ich sumą:"
   ]
  },
  {
   "cell_type": "code",
   "execution_count": 1,
   "metadata": {},
   "outputs": [],
   "source": [
    "def f1(x, y):\n",
    "    return (x**2 + y - 11)**2 + (x + y**2 - 7)**2\n",
    "\n",
    "def f2(x, y):\n",
    "    return 2*x**2 + 1.05*x**4 + (1/6)*x**6 + x*y + y**2\n",
    "\n",
    "def g(x1, x2, y1, y2):\n",
    "    return f1(x1, y1) + f2(x2, y2)"
   ]
  },
  {
   "attachments": {},
   "cell_type": "markdown",
   "metadata": {},
   "source": [
    "Pozostałymi hiperparametrami algorytmu będą:\n",
    "- prawdopodobieństwo mutacji\n",
    "- wariancja używana do obliczania siły mutacji \n",
    "- prawdopodobieństwo krzyżowania\n",
    "\n",
    "Przed zaimplementowaniem algorytmu wyznaczę funkcję oceny - wartością zwracaną przez tę funkcję będzie wynik funkcji celu (im mniejszy, tym lepsza ocena). Dodatkowo kara za wyjście poza dziedzinę funkcji przez osobnika to dodanie 1000 do wyniku działania funkcji oceny."
   ]
  },
  {
   "cell_type": "code",
   "execution_count": 2,
   "metadata": {},
   "outputs": [],
   "source": [
    "def rate(genes):\n",
    "    penalty = 0\n",
    "    domain_conditions = [-5 <= gene <= 5 for gene in genes]\n",
    "    if not all(domain_conditions):\n",
    "        penalty += 1000\n",
    "    return g(genes[0], genes[1], genes[2], genes[3]) + penalty"
   ]
  },
  {
   "attachments": {},
   "cell_type": "markdown",
   "metadata": {},
   "source": [
    "Następnie zdefiniuję funkcje odpowiedzialne za reprodukcję, krzyżowanie i mutację, z których będzie się składał algorytm ewoulucyjny."
   ]
  },
  {
   "cell_type": "code",
   "execution_count": 3,
   "metadata": {},
   "outputs": [],
   "source": [
    "import random\n",
    "import numpy as np\n",
    "\n",
    "# Reprodukcja - selekcja turniejowa (turnieje dwuosobnikowe)\n",
    "def reproduction(population, rating):\n",
    "    results = []\n",
    "    for i, individual in enumerate(population):\n",
    "        opponents = population.copy()\n",
    "        opponents.pop(i)\n",
    "        opponent = random.choice(opponents)\n",
    "        if rating(individual) < rating(opponent):\n",
    "            results.append(individual)\n",
    "        else:\n",
    "            results.append(opponent)\n",
    "    return results\n",
    "\n",
    "# Krzyżowanie jednopunktowe - każda para rodziców produkuje dwójkę dzieci\n",
    "def crossing(population, crossover_prob):\n",
    "    results = []\n",
    "    parents_list = population.copy()\n",
    "    for i in range(0, len(population) - 1, 2):\n",
    "        crossover_value = random.uniform(0, 1)\n",
    "        parent1, parent2 = random.sample(parents_list, 2)\n",
    "        parents_list.remove(parent1)\n",
    "        parents_list.remove(parent2)\n",
    "        if crossover_value < crossover_prob:\n",
    "            crossing_point = random.randint(1, len(parent1))\n",
    "            child1, child2 = [\n",
    "                parent1[:crossing_point] + parent2[crossing_point:],\n",
    "                parent2[:crossing_point] + parent1[crossing_point:]\n",
    "            ]\n",
    "            results.append(child1)\n",
    "            results.append(child2)\n",
    "        else:\n",
    "            results.append(parent1)\n",
    "            results.append(parent2)\n",
    "    # Jeśli populacja jest nieparzysta, przenieś rodzica bez pary do wyników\n",
    "    if len(population) % 2 == 1:\n",
    "        results.append(parents_list[0])\n",
    "    return results\n",
    "\n",
    "# Mutacja gaussowska\n",
    "def mutation(population, variance, mutation_prob):\n",
    "    results = []\n",
    "    for individual in population:\n",
    "        mutation_value = random.uniform(0, 1)\n",
    "        if mutation_value < mutation_prob:\n",
    "            results.append((individual + variance * np.random.normal(0, 1, len(individual))).tolist())\n",
    "        else:\n",
    "            results.append(individual)\n",
    "    return results\n"
   ]
  },
  {
   "attachments": {},
   "cell_type": "markdown",
   "metadata": {},
   "source": [
    "#### Zaimplementowany algorytm ewolucyjny"
   ]
  },
  {
   "cell_type": "code",
   "execution_count": 4,
   "metadata": {},
   "outputs": [],
   "source": [
    "def g_minimum(population, rating, crossover_prob, variance, mutation_prob, max_generations):\n",
    "    generation = 0\n",
    "    ratings = [rating(individual) for individual in population]\n",
    "    best_value = min(ratings)\n",
    "    best_value_index = ratings.index(best_value)\n",
    "    best_individual = population[best_value_index]\n",
    "    while generation < max_generations:\n",
    "        reproducted = reproduction(population, rating) # Reprodukcja\n",
    "        crossed = crossing(reproducted, crossover_prob) # Krzyżowanie\n",
    "        mutated = mutation(crossed, variance, mutation_prob) # Mutowanie\n",
    "        # Ocena nowego pokolenia\n",
    "        new_ratings = [rating(individual) for individual in mutated]\n",
    "        new_best_value = min(new_ratings)\n",
    "        new_best_value_index = new_ratings.index(new_best_value)\n",
    "        new_best_individual = mutated[new_best_value_index]\n",
    "        if new_best_value < best_value:\n",
    "            best_value = new_best_value\n",
    "            best_individual = new_best_individual\n",
    "        # Sukcesja generacyjna\n",
    "        population = mutated\n",
    "        ratings = new_ratings\n",
    "        generation += 1\n",
    "    return [best_individual, best_value]"
   ]
  },
  {
   "attachments": {},
   "cell_type": "markdown",
   "metadata": {},
   "source": [
    "### Szukanie rozwiązania\n",
    "\n",
    "Przy szukaniu rozwiązania będę wykorzystywał zawsze wykorzystywał populację w postaci 20 osobników o identycznych wartościach genów rosnących od -5 do 5.\n",
    "Poszukiwania rozpocznę od wartości prawdopodobieństw równych 0,5 oraz wariancji równej 0,1.\n",
    "Maksymalna liczba pokoleń początkowo wyniesie 100.\n",
    "\n",
    "Ze względu na obecność czynnika losowego przy działaniu algorytmu, dla każdego zestawu hiperparametrów algorytm będzie uruchamiany 20 razy, a następnie otrzymane rezultaty będą uśredniane."
   ]
  },
  {
   "cell_type": "code",
   "execution_count": 10,
   "metadata": {},
   "outputs": [
    {
     "name": "stdout",
     "output_type": "stream",
     "text": [
      "Populacja początkowa: [[-5.0, -5.0, -5.0, -5.0], [-4.473684210526316, -4.473684210526316, -4.473684210526316, -4.473684210526316], [-3.947368421052632, -3.947368421052632, -3.947368421052632, -3.947368421052632], [-3.4210526315789473, -3.4210526315789473, -3.4210526315789473, -3.4210526315789473], [-2.8947368421052633, -2.8947368421052633, -2.8947368421052633, -2.8947368421052633], [-2.368421052631579, -2.368421052631579, -2.368421052631579, -2.368421052631579], [-1.8421052631578947, -1.8421052631578947, -1.8421052631578947, -1.8421052631578947], [-1.3157894736842106, -1.3157894736842106, -1.3157894736842106, -1.3157894736842106], [-0.7894736842105265, -0.7894736842105265, -0.7894736842105265, -0.7894736842105265], [-0.2631578947368425, -0.2631578947368425, -0.2631578947368425, -0.2631578947368425], [0.2631578947368416, 0.2631578947368416, 0.2631578947368416, 0.2631578947368416], [0.7894736842105257, 0.7894736842105257, 0.7894736842105257, 0.7894736842105257], [1.3157894736842106, 1.3157894736842106, 1.3157894736842106, 1.3157894736842106], [1.8421052631578947, 1.8421052631578947, 1.8421052631578947, 1.8421052631578947], [2.3684210526315788, 2.3684210526315788, 2.3684210526315788, 2.3684210526315788], [2.894736842105263, 2.894736842105263, 2.894736842105263, 2.894736842105263], [3.421052631578947, 3.421052631578947, 3.421052631578947, 3.421052631578947], [3.947368421052632, 3.947368421052632, 3.947368421052632, 3.947368421052632], [4.473684210526315, 4.473684210526315, 4.473684210526315, 4.473684210526315], [5.0, 5.0, 5.0, 5.0]]\n",
      "Uśrednione wartości genów osobników w postaci [x1, x2, y1, y2]: [2.739402794196807, -0.019029108397754187, 1.8658504374649596, 0.01618533231830821]\n",
      "Średnia wartość funkcji celu: 0.014360418463601147\n"
     ]
    }
   ],
   "source": [
    "x1 = np.linspace(-5, 5, 20)\n",
    "x2 = np.linspace(-5, 5, 20)\n",
    "y1 = np.linspace(-5, 5, 20)\n",
    "y2 = np.linspace(-5, 5, 20)\n",
    "individuals = list(map(list, zip(x1, x2, y1, y2)))\n",
    "print(f\"Populacja początkowa: {individuals}\")\n",
    "individual_results = []\n",
    "value_results = [] \n",
    "for i in range(20):\n",
    "    result = g_minimum(individuals, rate, 0.5, 0.1, 0.5, 100)\n",
    "    individual_results.append(result[0])\n",
    "    value_results.append(result[1])\n",
    "gene_values = list(zip(*individual_results))\n",
    "average_individual = [\n",
    "    sum(gene_values[0]) / len(gene_values[0]),\n",
    "    sum(gene_values[1]) / len(gene_values[1]),\n",
    "    sum(gene_values[2]) / len(gene_values[2]),\n",
    "    sum(gene_values[3]) / len(gene_values[3]),\n",
    "]\n",
    "average_value = sum(value_results) / len(value_results)\n",
    "print(\"Uśrednione wartości genów osobników w postaci [x1, x2, y1, y2]:\", average_individual)\n",
    "print(\"Średnia wartość funkcji celu:\", average_value)"
   ]
  },
  {
   "attachments": {},
   "cell_type": "markdown",
   "metadata": {},
   "source": [
    "Otrzymane rozwiązanie znajduje się blisko prawdziwego minimum, którego wartość wynosi 0 (minimalną wartość funkcji celu sprawdziłem za pomocą programu WolframAlpha).\n",
    "Spróbuję teraz zmienić wartość prawdopodobieństwa krzyżowania z 0,5 na 0,8 i powtórzyć eksperyment:"
   ]
  },
  {
   "cell_type": "code",
   "execution_count": 6,
   "metadata": {},
   "outputs": [
    {
     "name": "stdout",
     "output_type": "stream",
     "text": [
      "Uśrednione wartości genów osobników w postaci [x1, x2, y1, y2]: [2.1550923836642624, 0.007228799763489377, 1.9751937343984447, -0.01821729457777229]\n",
      "Średnia wartość funkcji celu: 0.008755241698000366\n"
     ]
    }
   ],
   "source": [
    "individual_results = []\n",
    "value_results = [] \n",
    "for i in range(20):\n",
    "    result = g_minimum(individuals, rate, 0.8, 0.1, 0.5, 100)\n",
    "    individual_results.append(result[0])\n",
    "    value_results.append(result[1])\n",
    "gene_values = list(zip(*individual_results))\n",
    "average_individual = [\n",
    "    sum(gene_values[0]) / len(gene_values[0]),\n",
    "    sum(gene_values[1]) / len(gene_values[1]),\n",
    "    sum(gene_values[2]) / len(gene_values[2]),\n",
    "    sum(gene_values[3]) / len(gene_values[3]),\n",
    "]\n",
    "average_value = sum(value_results) / len(value_results)\n",
    "print(\"Uśrednione wartości genów osobników w postaci [x1, x2, y1, y2]:\", average_individual)\n",
    "print(\"Średnia wartość funkcji celu:\", average_value)"
   ]
  },
  {
   "attachments": {},
   "cell_type": "markdown",
   "metadata": {},
   "source": [
    "Po zmianie margines błędu algorytmu znacząco zmalał. Teraz zbadam, czy zwiększenie liczby pokoleń wpłynie na otrzymywane wyniki - ustawię wartość tego hiperparametru na 200:"
   ]
  },
  {
   "cell_type": "code",
   "execution_count": 7,
   "metadata": {},
   "outputs": [
    {
     "name": "stdout",
     "output_type": "stream",
     "text": [
      "Uśrednione wartości genów osobników w postaci [x1, x2, y1, y2]: [2.4474281443489057, -0.012902484961860111, 1.9244329918356065, 0.017149937024210946]\n",
      "Średnia wartość funkcji celu: 0.003788577108049729\n"
     ]
    }
   ],
   "source": [
    "individual_results = []\n",
    "value_results = [] \n",
    "for i in range(20):\n",
    "    result = g_minimum(individuals, rate, 0.8, 0.1, 0.5, 200)\n",
    "    individual_results.append(result[0])\n",
    "    value_results.append(result[1])\n",
    "gene_values = list(zip(*individual_results))\n",
    "average_individual = [\n",
    "    sum(gene_values[0]) / len(gene_values[0]),\n",
    "    sum(gene_values[1]) / len(gene_values[1]),\n",
    "    sum(gene_values[2]) / len(gene_values[2]),\n",
    "    sum(gene_values[3]) / len(gene_values[3]),\n",
    "]\n",
    "average_value = sum(value_results) / len(value_results)\n",
    "print(\"Uśrednione wartości genów osobników w postaci [x1, x2, y1, y2]:\", average_individual)\n",
    "print(\"Średnia wartość funkcji celu:\", average_value)"
   ]
  },
  {
   "attachments": {},
   "cell_type": "markdown",
   "metadata": {},
   "source": [
    "Zgodnie z moimi oczekiwaniami, większa liczba pokoleń wpłynęła pozytywnie na otrzymywany wynik. Otrzymany rezultat uważam za zadowalający, dlatego teraz przejdę do badania wpływu konkretnych parametrów na działanie algorytmu\n",
    "\n",
    "##### Tabela z otrzymanymi rezultatami\n",
    "\n",
    "| Prawdopodobieństwo krzyżowania | Wariancja | Prawdopodobieństwo mutacji | Liczba pokoleń | Średni otrzymany wynik |\n",
    "| --- | --- | --- | --- | --- |\n",
    "| 0.5 | 0.1 | 0.5 | 100 | 0.014 |\n",
    "| 0.8 | 0.1 | 0.5 | 100 | 0.009 |\n",
    "| 0.8 | 0.1 | 0.5 | 200 | 0.004 |\n",
    "\n",
    "## Badanie wpływu hiperparametrów na algorytm\n",
    "\n",
    "Podczas przeprowadzania eksperymentów po każdym etapie działania algorytmu ewolucyjnego - reprodukcji, krzyżowania i mutacji - będę generował wykres przedstawiający dystrybucję osobników na planszy - każda funkcja będzie posiadała swój osobny wykres. W tym celu zdefiniuję nową funkcję, która wciąż będzie realizowała algorytm ewolucyjny, ale dodatkowo rysowała wykresy:"
   ]
  }
 ],
 "metadata": {
  "kernelspec": {
   "display_name": "Python 3",
   "language": "python",
   "name": "python3"
  },
  "language_info": {
   "codemirror_mode": {
    "name": "ipython",
    "version": 3
   },
   "file_extension": ".py",
   "mimetype": "text/x-python",
   "name": "python",
   "nbconvert_exporter": "python",
   "pygments_lexer": "ipython3",
   "version": "3.10.9"
  },
  "orig_nbformat": 4
 },
 "nbformat": 4,
 "nbformat_minor": 2
}
