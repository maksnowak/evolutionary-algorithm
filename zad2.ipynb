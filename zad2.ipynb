{
 "cells": [
  {
   "attachments": {},
   "cell_type": "markdown",
   "metadata": {},
   "source": [
    "# WSI - Ćwiczenie 2\n",
    "\n",
    "*Autor: Maksymilian Nowak*"
   ]
  },
  {
   "attachments": {},
   "cell_type": "markdown",
   "metadata": {},
   "source": [
    "### Cel ćwiczenia\n",
    "\n",
    "Celem ćwiczenia jest zaimplementowanie algorytmu ewolucyjnego:\n",
    "- z selekcją turniejową ($k=2$)\n",
    "- krzyżowaniem jednopunktowym\n",
    "- mutacją gaussowską\n",
    "- sukcesją generacyjną\n",
    "\n",
    "Należy również wykorzystać ten algorytm do znalezienia minimum sumy funkcji $f_1+f_2$, gdzie: \n",
    "$$f_1(x_1,y_1)=(x_1^2+y_1-11)^2+(x_1+y_1^2-7)^2$$\n",
    "$$f_2(x_2,y_2)=2*x_2^2+1.05*x_2^4+\\frac{x_2^6}{6}+x_2y_2+y_2^2$$\n",
    "dla dziedziny $D=[-5,5]\\times[-5,5]$, oraz zbadać wpływ dystrybucji populacji początkowej, prawdopodobieństwa mutacji oraz prawdopodobieństwa krzyżowania na współrzędne znalezionych minimów funkcji $f_1$."
   ]
  },
  {
   "attachments": {},
   "cell_type": "markdown",
   "metadata": {},
   "source": [
    "## Implementacja algorytmu ewolucyjnego\n",
    "\n",
    "Do implementacji algorytmu przyjąłem następujące założenia:\n",
    "- Funkcja celu ma następującą postać: $g(x_1, x_2, y_1, y_2)=f_1(x_1,y_1)+f_2(x_2,y_2)$\n",
    "- Osobnik jest postaci $(x_1,x_2,y_1,y_2)$\n",
    "- Kryterium stopu w algorytmie będzie maksymalna liczba pokoleń\n",
    "\n",
    "Na początku zdefiniuję badane funkcje oraz funkcję celu, będącą ich sumą:"
   ]
  },
  {
   "cell_type": "code",
   "execution_count": 1,
   "metadata": {},
   "outputs": [],
   "source": [
    "def f1(x, y):\n",
    "    return (x**2 + y - 11)**2 + (x + y**2 - 7)**2\n",
    "\n",
    "def f2(x, y):\n",
    "    return 2*x**2 + 1.05*x**4 + (1/6)*x**6 + x*y + y**2\n",
    "\n",
    "def g(x1, x2, y1, y2):\n",
    "    return f1(x1, y1) + f2(x2, y2)"
   ]
  },
  {
   "attachments": {},
   "cell_type": "markdown",
   "metadata": {},
   "source": [
    "Pozostałymi hiperparametrami algorytmu będą:\n",
    "- prawdopodobieństwo mutacji\n",
    "- wariancja używana do obliczania siły mutacji \n",
    "- prawdopodobieństwo krzyżowania\n",
    "- wartość kary za wyjście poza planszę (czyli dziedzinę $D$)\n",
    "\n",
    "Przed zaimplementowaniem algorytmu wyznaczę funkcję oceny - wartością zwracaną przez tę funkcję będzie wynik funkcji celu (im mniejszy, tym lepsza ocena). Dodatkowo kara za wyjście poza dziedzinę funkcji przez osobnika to dodanie 1000 do wyniku działania funkcji oceny."
   ]
  },
  {
   "cell_type": "code",
   "execution_count": 2,
   "metadata": {},
   "outputs": [],
   "source": [
    "def rating(x_1, x_2, y_1, y_2, penalty_value):\n",
    "    penalty = 0\n",
    "    domain_conditions = [\n",
    "        -5 <= x_1 <= 5,\n",
    "        -5 <= x_2 <= 5,\n",
    "        -5 <= y_1 <= 5,\n",
    "        -5 <= y_2 <= 5\n",
    "    ]\n",
    "    if not all(domain_conditions):\n",
    "        penalty += penalty_value\n",
    "    return g(x_1, x_2, y_1, y_2) + penalty"
   ]
  },
  {
   "cell_type": "code",
   "execution_count": null,
   "metadata": {},
   "outputs": [],
   "source": [
    "import numpy as np\n",
    "import random\n",
    "\n",
    "def evolutionary(function, population, crossover_prob, variance, mutation_prob, penalty, max_generations):\n",
    "    generation = 0\n",
    "    ratings = []\n",
    "    # Ocena pierwszego pokolenia\n",
    "    for individual in population:\n",
    "        ratings.append(rating(individual[0], individual[1], individual[2], individual[3], penalty))\n",
    "    while generation < max_generations:\n",
    "        # Selekcja turniejowa\n",
    "        selected = []\n",
    "        for i, individual in enumerate(population):\n",
    "            opponents = selected.copy().pop(i)\n",
    "            opponent = random.choice(opponents)\n",
    "            if rating(individual[0], individual[1], individual[2], individual[3], penalty) < rating(opponent[0], opponent[1], opponent[2], opponent[3], penalty):\n",
    "                selected.append(individual)\n",
    "            else:\n",
    "                selected.append(opponent)\n",
    "        # Krzyżowanie jednopunktowe\n",
    "        crossed = []\n",
    "        crossover_value = random.uniform(0, 1)\n",
    "        for i in range(0, len(selected), 2):\n",
    "            parents = random.sample(selected, 2)\n",
    "            if crossover_value < crossover_prob:\n",
    "                crossing_point = random.randint(len(selected[0]))\n",
    "                children = [\n",
    "                    parents[0][:crossing_point] + parents[1][crossing_point:],\n",
    "                    parents[1][:crossing_point] + parents[0][crossing_point:]\n",
    "                ]\n",
    "            else:\n",
    "                children = parents\n",
    "        crossed.append(children[0])\n",
    "        crossed.append(children[1])\n",
    "        # Mutacja\n",
    "        mutated = []\n",
    "        for individual in crossed:\n",
    "            mutation_value = random.uniform(0, 1)\n",
    "            if mutation_value < mutation_prob:\n",
    "                mutated.append(individual + variance * np.random.normal(0, 1, len(individual)))\n",
    "            else:\n",
    "                mutated.append(individual)\n",
    "        # Ocena pokolenia\n",
    "        ratings = []\n",
    "        for individual in mutated:\n",
    "            ratings.append(rating(individual[0], individual[1], individual[2], individual[3], penalty))\n",
    "        # Zastąpienie populacji\n",
    "        population = mutated\n",
    "        generation += 1\n",
    "    return population, ratings\n"
   ]
  }
 ],
 "metadata": {
  "kernelspec": {
   "display_name": "Python 3",
   "language": "python",
   "name": "python3"
  },
  "language_info": {
   "codemirror_mode": {
    "name": "ipython",
    "version": 3
   },
   "file_extension": ".py",
   "mimetype": "text/x-python",
   "name": "python",
   "nbconvert_exporter": "python",
   "pygments_lexer": "ipython3",
   "version": "3.10.9"
  },
  "orig_nbformat": 4
 },
 "nbformat": 4,
 "nbformat_minor": 2
}
